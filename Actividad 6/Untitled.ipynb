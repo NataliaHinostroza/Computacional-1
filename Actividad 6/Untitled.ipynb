{
 "cells": [
  {
   "cell_type": "code",
   "execution_count": 1,
   "metadata": {
    "collapsed": true
   },
   "outputs": [],
   "source": [
    "import pandas as pd\n",
    "import numpy as np\n",
    "import matplotlib as plt\n",
    "import scipy.stats as stats\n",
    "from pylab import *"
   ]
  },
  {
   "cell_type": "code",
   "execution_count": 2,
   "metadata": {
    "collapsed": true
   },
   "outputs": [],
   "source": [
    "df=pd.read_csv(\"SF.csv\",parse_dates=['Date Time'],header=int(0))"
   ]
  },
  {
   "cell_type": "code",
   "execution_count": 3,
   "metadata": {
    "collapsed": false
   },
   "outputs": [
    {
     "data": {
      "text/html": [
       "<div>\n",
       "<table border=\"1\" class=\"dataframe\">\n",
       "  <thead>\n",
       "    <tr style=\"text-align: right;\">\n",
       "      <th></th>\n",
       "      <th>Date Time</th>\n",
       "      <th>Water Level</th>\n",
       "      <th>Sigma</th>\n",
       "      <th>I</th>\n",
       "      <th>L</th>\n",
       "    </tr>\n",
       "  </thead>\n",
       "  <tbody>\n",
       "    <tr>\n",
       "      <th>0</th>\n",
       "      <td>2016-04-01 00:00:00</td>\n",
       "      <td>0.917</td>\n",
       "      <td>0.032</td>\n",
       "      <td>0</td>\n",
       "      <td>0</td>\n",
       "    </tr>\n",
       "    <tr>\n",
       "      <th>1</th>\n",
       "      <td>2016-04-01 01:00:00</td>\n",
       "      <td>1.084</td>\n",
       "      <td>0.037</td>\n",
       "      <td>0</td>\n",
       "      <td>0</td>\n",
       "    </tr>\n",
       "    <tr>\n",
       "      <th>2</th>\n",
       "      <td>2016-04-01 02:00:00</td>\n",
       "      <td>1.169</td>\n",
       "      <td>0.027</td>\n",
       "      <td>0</td>\n",
       "      <td>0</td>\n",
       "    </tr>\n",
       "    <tr>\n",
       "      <th>3</th>\n",
       "      <td>2016-04-01 03:00:00</td>\n",
       "      <td>1.210</td>\n",
       "      <td>0.042</td>\n",
       "      <td>0</td>\n",
       "      <td>0</td>\n",
       "    </tr>\n",
       "    <tr>\n",
       "      <th>4</th>\n",
       "      <td>2016-04-01 04:00:00</td>\n",
       "      <td>1.166</td>\n",
       "      <td>0.026</td>\n",
       "      <td>0</td>\n",
       "      <td>0</td>\n",
       "    </tr>\n",
       "    <tr>\n",
       "      <th>5</th>\n",
       "      <td>2016-04-01 05:00:00</td>\n",
       "      <td>1.075</td>\n",
       "      <td>0.024</td>\n",
       "      <td>0</td>\n",
       "      <td>0</td>\n",
       "    </tr>\n",
       "    <tr>\n",
       "      <th>6</th>\n",
       "      <td>2016-04-01 06:00:00</td>\n",
       "      <td>0.958</td>\n",
       "      <td>0.040</td>\n",
       "      <td>0</td>\n",
       "      <td>0</td>\n",
       "    </tr>\n",
       "    <tr>\n",
       "      <th>7</th>\n",
       "      <td>2016-04-01 07:00:00</td>\n",
       "      <td>0.898</td>\n",
       "      <td>0.033</td>\n",
       "      <td>0</td>\n",
       "      <td>0</td>\n",
       "    </tr>\n",
       "    <tr>\n",
       "      <th>8</th>\n",
       "      <td>2016-04-01 08:00:00</td>\n",
       "      <td>0.923</td>\n",
       "      <td>0.026</td>\n",
       "      <td>0</td>\n",
       "      <td>0</td>\n",
       "    </tr>\n",
       "    <tr>\n",
       "      <th>9</th>\n",
       "      <td>2016-04-01 09:00:00</td>\n",
       "      <td>0.966</td>\n",
       "      <td>0.032</td>\n",
       "      <td>0</td>\n",
       "      <td>0</td>\n",
       "    </tr>\n",
       "    <tr>\n",
       "      <th>10</th>\n",
       "      <td>2016-04-01 10:00:00</td>\n",
       "      <td>1.085</td>\n",
       "      <td>0.033</td>\n",
       "      <td>0</td>\n",
       "      <td>0</td>\n",
       "    </tr>\n",
       "    <tr>\n",
       "      <th>11</th>\n",
       "      <td>2016-04-01 11:00:00</td>\n",
       "      <td>1.234</td>\n",
       "      <td>0.038</td>\n",
       "      <td>0</td>\n",
       "      <td>0</td>\n",
       "    </tr>\n",
       "    <tr>\n",
       "      <th>12</th>\n",
       "      <td>2016-04-01 12:00:00</td>\n",
       "      <td>1.353</td>\n",
       "      <td>0.035</td>\n",
       "      <td>0</td>\n",
       "      <td>0</td>\n",
       "    </tr>\n",
       "    <tr>\n",
       "      <th>13</th>\n",
       "      <td>2016-04-01 13:00:00</td>\n",
       "      <td>1.427</td>\n",
       "      <td>0.046</td>\n",
       "      <td>0</td>\n",
       "      <td>0</td>\n",
       "    </tr>\n",
       "    <tr>\n",
       "      <th>14</th>\n",
       "      <td>2016-04-01 14:00:00</td>\n",
       "      <td>1.394</td>\n",
       "      <td>0.024</td>\n",
       "      <td>0</td>\n",
       "      <td>0</td>\n",
       "    </tr>\n",
       "    <tr>\n",
       "      <th>15</th>\n",
       "      <td>2016-04-01 15:00:00</td>\n",
       "      <td>1.281</td>\n",
       "      <td>0.032</td>\n",
       "      <td>0</td>\n",
       "      <td>0</td>\n",
       "    </tr>\n",
       "  </tbody>\n",
       "</table>\n",
       "</div>"
      ],
      "text/plain": [
       "             Date Time   Water Level   Sigma   I   L \n",
       "0  2016-04-01 00:00:00         0.917   0.032   0    0\n",
       "1  2016-04-01 01:00:00         1.084   0.037   0    0\n",
       "2  2016-04-01 02:00:00         1.169   0.027   0    0\n",
       "3  2016-04-01 03:00:00         1.210   0.042   0    0\n",
       "4  2016-04-01 04:00:00         1.166   0.026   0    0\n",
       "5  2016-04-01 05:00:00         1.075   0.024   0    0\n",
       "6  2016-04-01 06:00:00         0.958   0.040   0    0\n",
       "7  2016-04-01 07:00:00         0.898   0.033   0    0\n",
       "8  2016-04-01 08:00:00         0.923   0.026   0    0\n",
       "9  2016-04-01 09:00:00         0.966   0.032   0    0\n",
       "10 2016-04-01 10:00:00         1.085   0.033   0    0\n",
       "11 2016-04-01 11:00:00         1.234   0.038   0    0\n",
       "12 2016-04-01 12:00:00         1.353   0.035   0    0\n",
       "13 2016-04-01 13:00:00         1.427   0.046   0    0\n",
       "14 2016-04-01 14:00:00         1.394   0.024   0    0\n",
       "15 2016-04-01 15:00:00         1.281   0.032   0    0"
      ]
     },
     "execution_count": 3,
     "metadata": {},
     "output_type": "execute_result"
    }
   ],
   "source": [
    "df.head(16)"
   ]
  },
  {
   "cell_type": "code",
   "execution_count": 4,
   "metadata": {
    "collapsed": true
   },
   "outputs": [],
   "source": [
    "df.columns=['Date Time','Water Level','Sigma','I','L']"
   ]
  },
  {
   "cell_type": "code",
   "execution_count": 5,
   "metadata": {
    "collapsed": false
   },
   "outputs": [
    {
     "data": {
      "text/plain": [
       "Date Time      0\n",
       "Water Level    0\n",
       "Sigma          0\n",
       "I              0\n",
       "L              0\n",
       "dtype: int64"
      ]
     },
     "execution_count": 5,
     "metadata": {},
     "output_type": "execute_result"
    }
   ],
   "source": [
    "df.apply(lambda x: sum(x.isnull()),axis=0)"
   ]
  },
  {
   "cell_type": "code",
   "execution_count": 26,
   "metadata": {
    "collapsed": false
   },
   "outputs": [
    {
     "data": {
      "image/png": "[encoded data removed]",
      "text/plain": [
       "<matplotlib.figure.Figure at 0x7f609e103160>"
      ]
     },
     "metadata": {},
     "output_type": "display_data"
    }
   ],
   "source": [
    "N = 720\n",
    "T =  1\n",
    "y = df['Water Level']\n",
    "yf = fft(y)\n",
    "xf = fftfreq(N, T)\n",
    "xf = fftshift(xf)\n",
    "yplot = fftshift(yf)\n",
    "import matplotlib.pyplot as plt\n",
    "plt.plot(xf, 1.0/N * np.abs(yplot))\n",
    "plt.xlim(0,0.1)\n",
    "plt.title('San Francisco, CA')\n",
    "plt.xlabel('Frecuencia')\n",
    "plt.ylabel('Nivel del Mar')\n",
    "plt.grid()\n",
    "fig=plt.gcf()\n",
    "fig.set_size_inches(7,7)\n",
    "\n",
    "plt.text(.0375,0.11,\"$O_1$\")\n",
    "plt.text(.0406,0.15,\"$K_1$\")\n",
    "plt.text(.079,0.3,\"$M_2$\")\n",
    "plt.text(.0825,0.093,\"$S_2$\")\n",
    "\n",
    "plt.show()\n"
   ]
  },
  {
   "cell_type": "code",
   "execution_count": null,
   "metadata": {
    "collapsed": true
   },
   "outputs": [],
   "source": []
  }
 ],
 "metadata": {
  "anaconda-cloud": {},
  "kernelspec": {
   "display_name": "Python [default]",
   "language": "python",
   "name": "python3"
  },
  "language_info": {
   "codemirror_mode": {
    "name": "ipython",
    "version": 3
   },
   "file_extension": ".py",
   "mimetype": "text/x-python",
   "name": "python",
   "nbconvert_exporter": "python",
   "pygments_lexer": "ipython3",
   "version": "3.5.2"
  }
 },
 "nbformat": 4,
 "nbformat_minor": 1
}
