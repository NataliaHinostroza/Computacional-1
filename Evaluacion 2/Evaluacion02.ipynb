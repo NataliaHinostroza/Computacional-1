{
 "cells": [
  {
   "cell_type": "code",
   "execution_count": 1,
   "metadata": {
    "collapsed": true
   },
   "outputs": [],
   "source": [
    "#Importar lo necesario para la transformada\n",
    "import pandas as pd\n",
    "import numpy as np\n",
    "import matplotlib as plt\n",
    "from pylab import *\n",
    "import scipy\n",
    "from scipy.fftpack import fft,fftfreq, fftshift, rfft"
   ]
  },
  {
   "cell_type": "code",
   "execution_count": 2,
   "metadata": {
    "collapsed": false
   },
   "outputs": [
    {
     "data": {
      "text/html": [
       "<div>\n",
       "<table border=\"1\" class=\"dataframe\">\n",
       "  <thead>\n",
       "    <tr style=\"text-align: right;\">\n",
       "      <th></th>\n",
       "      <th>Año</th>\n",
       "      <th>Mes</th>\n",
       "      <th>Año Des</th>\n",
       "      <th>Manchas</th>\n",
       "      <th>*</th>\n",
       "      <th>**</th>\n",
       "    </tr>\n",
       "  </thead>\n",
       "  <tbody>\n",
       "    <tr>\n",
       "      <th>0</th>\n",
       "      <td>1749</td>\n",
       "      <td>1</td>\n",
       "      <td>1749.042</td>\n",
       "      <td>96.7</td>\n",
       "      <td>-1.0</td>\n",
       "      <td>-1</td>\n",
       "    </tr>\n",
       "    <tr>\n",
       "      <th>1</th>\n",
       "      <td>1749</td>\n",
       "      <td>2</td>\n",
       "      <td>1749.123</td>\n",
       "      <td>104.3</td>\n",
       "      <td>-1.0</td>\n",
       "      <td>-1</td>\n",
       "    </tr>\n",
       "    <tr>\n",
       "      <th>2</th>\n",
       "      <td>1749</td>\n",
       "      <td>3</td>\n",
       "      <td>1749.204</td>\n",
       "      <td>116.7</td>\n",
       "      <td>-1.0</td>\n",
       "      <td>-1</td>\n",
       "    </tr>\n",
       "    <tr>\n",
       "      <th>3</th>\n",
       "      <td>1749</td>\n",
       "      <td>4</td>\n",
       "      <td>1749.288</td>\n",
       "      <td>92.8</td>\n",
       "      <td>-1.0</td>\n",
       "      <td>-1</td>\n",
       "    </tr>\n",
       "    <tr>\n",
       "      <th>4</th>\n",
       "      <td>1749</td>\n",
       "      <td>5</td>\n",
       "      <td>1749.371</td>\n",
       "      <td>141.7</td>\n",
       "      <td>-1.0</td>\n",
       "      <td>-1</td>\n",
       "    </tr>\n",
       "  </tbody>\n",
       "</table>\n",
       "</div>"
      ],
      "text/plain": [
       "    Año  Mes   Año Des  Manchas    *  **\n",
       "0  1749    1  1749.042     96.7 -1.0  -1\n",
       "1  1749    2  1749.123    104.3 -1.0  -1\n",
       "2  1749    3  1749.204    116.7 -1.0  -1\n",
       "3  1749    4  1749.288     92.8 -1.0  -1\n",
       "4  1749    5  1749.371    141.7 -1.0  -1"
      ]
     },
     "execution_count": 2,
     "metadata": {},
     "output_type": "execute_result"
    }
   ],
   "source": [
    "df = pd.read_csv(\"Datos.csv\", names=['Año', 'Mes', 'Año Des','Manchas','*','**'], skiprows=[0])\n",
    "df.head()"
   ]
  },
  {
   "cell_type": "code",
   "execution_count": 3,
   "metadata": {
    "collapsed": false
   },
   "outputs": [
    {
     "data": {
      "text/html": [
       "<div>\n",
       "<table border=\"1\" class=\"dataframe\">\n",
       "  <thead>\n",
       "    <tr style=\"text-align: right;\">\n",
       "      <th></th>\n",
       "      <th>Año</th>\n",
       "      <th>Mes</th>\n",
       "      <th>Año Des</th>\n",
       "      <th>Manchas</th>\n",
       "      <th>*</th>\n",
       "      <th>**</th>\n",
       "    </tr>\n",
       "  </thead>\n",
       "  <tbody>\n",
       "    <tr>\n",
       "      <th>count</th>\n",
       "      <td>3213.000000</td>\n",
       "      <td>3213.000000</td>\n",
       "      <td>3213.000000</td>\n",
       "      <td>3213.000000</td>\n",
       "      <td>3213.000000</td>\n",
       "      <td>3213.000000</td>\n",
       "    </tr>\n",
       "    <tr>\n",
       "      <th>mean</th>\n",
       "      <td>1882.375350</td>\n",
       "      <td>6.495798</td>\n",
       "      <td>1882.873012</td>\n",
       "      <td>82.923561</td>\n",
       "      <td>5.610955</td>\n",
       "      <td>89.781201</td>\n",
       "    </tr>\n",
       "    <tr>\n",
       "      <th>std</th>\n",
       "      <td>77.304865</td>\n",
       "      <td>3.451370</td>\n",
       "      <td>77.304802</td>\n",
       "      <td>67.819418</td>\n",
       "      <td>5.234367</td>\n",
       "      <td>185.247160</td>\n",
       "    </tr>\n",
       "    <tr>\n",
       "      <th>min</th>\n",
       "      <td>1749.000000</td>\n",
       "      <td>1.000000</td>\n",
       "      <td>1749.042000</td>\n",
       "      <td>0.000000</td>\n",
       "      <td>-1.000000</td>\n",
       "      <td>-1.000000</td>\n",
       "    </tr>\n",
       "    <tr>\n",
       "      <th>25%</th>\n",
       "      <td>1815.000000</td>\n",
       "      <td>3.000000</td>\n",
       "      <td>1815.958000</td>\n",
       "      <td>25.300000</td>\n",
       "      <td>-1.000000</td>\n",
       "      <td>-1.000000</td>\n",
       "    </tr>\n",
       "    <tr>\n",
       "      <th>50%</th>\n",
       "      <td>1882.000000</td>\n",
       "      <td>6.000000</td>\n",
       "      <td>1882.874000</td>\n",
       "      <td>69.700000</td>\n",
       "      <td>5.400000</td>\n",
       "      <td>30.000000</td>\n",
       "    </tr>\n",
       "    <tr>\n",
       "      <th>75%</th>\n",
       "      <td>1949.000000</td>\n",
       "      <td>9.000000</td>\n",
       "      <td>1949.790000</td>\n",
       "      <td>123.300000</td>\n",
       "      <td>9.400000</td>\n",
       "      <td>31.000000</td>\n",
       "    </tr>\n",
       "    <tr>\n",
       "      <th>max</th>\n",
       "      <td>2016.000000</td>\n",
       "      <td>12.000000</td>\n",
       "      <td>2016.708000</td>\n",
       "      <td>398.200000</td>\n",
       "      <td>23.500000</td>\n",
       "      <td>977.000000</td>\n",
       "    </tr>\n",
       "  </tbody>\n",
       "</table>\n",
       "</div>"
      ],
      "text/plain": [
       "               Año          Mes      Año Des      Manchas            *  \\\n",
       "count  3213.000000  3213.000000  3213.000000  3213.000000  3213.000000   \n",
       "mean   1882.375350     6.495798  1882.873012    82.923561     5.610955   \n",
       "std      77.304865     3.451370    77.304802    67.819418     5.234367   \n",
       "min    1749.000000     1.000000  1749.042000     0.000000    -1.000000   \n",
       "25%    1815.000000     3.000000  1815.958000    25.300000    -1.000000   \n",
       "50%    1882.000000     6.000000  1882.874000    69.700000     5.400000   \n",
       "75%    1949.000000     9.000000  1949.790000   123.300000     9.400000   \n",
       "max    2016.000000    12.000000  2016.708000   398.200000    23.500000   \n",
       "\n",
       "                **  \n",
       "count  3213.000000  \n",
       "mean     89.781201  \n",
       "std     185.247160  \n",
       "min      -1.000000  \n",
       "25%      -1.000000  \n",
       "50%      30.000000  \n",
       "75%      31.000000  \n",
       "max     977.000000  "
      ]
     },
     "execution_count": 3,
     "metadata": {},
     "output_type": "execute_result"
    }
   ],
   "source": [
    "df.describe()"
   ]
  },
  {
   "cell_type": "code",
   "execution_count": 17,
   "metadata": {
    "collapsed": false
   },
   "outputs": [
    {
     "data": {
      "image/png": "[encoded data removed]",
      "text/plain": [
       "<matplotlib.figure.Figure at 0x1f00d843c18>"
      ]
     },
     "metadata": {},
     "output_type": "display_data"
    }
   ],
   "source": [
    "#Aplicar la transformada de Fourier\n",
    "N= 3213\n",
    "T = 1.0\n",
    "\n",
    "#Tamaño de la imagen\n",
    "fig = plt.gcf()\n",
    "fig.set_size_inches(13, 8)\n",
    "\n",
    "y = df[\"Manchas\"] \n",
    "yf = fft(y)\n",
    "xf = fftfreq(N, T)\n",
    "xf = fftshift(xf)\n",
    "yplot = fftshift(yf)\n",
    "\n",
    "graf = plt.plot(xf, 2.0/N *abs(yplot))\n",
    "plt.xlim(0,0.02)\n",
    "plt.ylim(0,50)\n",
    "plt.grid(True)\n",
    "\n",
    "plt.xlabel('Frecuencia')\n",
    "plt.ylabel('Número de Manchas')\n",
    "plt.title('Manchas Solares')\n",
    "plt.text(0.007,41,'11.11 años')\n",
    "\n",
    "fig = plt.gcf()\n",
    "fig.set_size_inches(14, 7)\n",
    "plt.show()"
   ]
  },
  {
   "cell_type": "code",
   "execution_count": 8,
   "metadata": {
    "collapsed": false
   },
   "outputs": [
    {
     "data": {
      "text/plain": [
       "array([ 165.84712107 +0.j        ,    7.63698503 +9.56584339j,\n",
       "         -1.97516571+11.45744489j, ...,   -3.63218840+22.50799815j,\n",
       "         -1.97516571-11.45744489j,    7.63698503 -9.56584339j])"
      ]
     },
     "execution_count": 8,
     "metadata": {},
     "output_type": "execute_result"
    }
   ],
   "source": [
    "yf/1606.5"
   ]
  },
  {
   "cell_type": "code",
   "execution_count": 9,
   "metadata": {
    "collapsed": true
   },
   "outputs": [],
   "source": [
    "r= np.absolute(yf/1606.5)"
   ]
  },
  {
   "cell_type": "code",
   "execution_count": 10,
   "metadata": {
    "collapsed": false
   },
   "outputs": [
    {
     "data": {
      "text/plain": [
       "array([ 165.84712107,   39.98723321,   39.98723321])"
      ]
     },
     "execution_count": 10,
     "metadata": {},
     "output_type": "execute_result"
    }
   ],
   "source": [
    "r[r[:,] > 38]"
   ]
  },
  {
   "cell_type": "code",
   "execution_count": 11,
   "metadata": {
    "collapsed": false
   },
   "outputs": [
    {
     "name": "stdout",
     "output_type": "stream",
     "text": [
      "(array([   0,   24, 3189], dtype=int64),)\n"
     ]
    },
    {
     "data": {
      "text/plain": [
       "array([ 165.84712107,   39.98723321,   39.98723321])"
      ]
     },
     "execution_count": 11,
     "metadata": {},
     "output_type": "execute_result"
    }
   ],
   "source": [
    "print(np.where(r[:,]>38))\n",
    "a= r[r[:,]>38]\n",
    "a"
   ]
  },
  {
   "cell_type": "code",
   "execution_count": 12,
   "metadata": {
    "collapsed": true
   },
   "outputs": [],
   "source": [
    "F_11AÑOS=  xf[int(1606.5 + 24),]\n",
    "F2=xf[int(1606.5+27),]\n",
    "F3=xf[int(1606.5+18)]"
   ]
  },
  {
   "cell_type": "code",
   "execution_count": 13,
   "metadata": {
    "collapsed": false
   },
   "outputs": [
    {
     "name": "stdout",
     "output_type": "stream",
     "text": [
      "Periodo: 11.15625 Años\n",
      "Otros periodos cercanos: | 9.91666666667 años| 14.875 años\n"
     ]
    }
   ],
   "source": [
    "print('Periodo:',1/(F_11AÑOS*12), 'Años')\n",
    "print('Otros periodos cercanos:','|',1/(F2*12),'años|',1/(F3*12),'años')"
   ]
  },
  {
   "cell_type": "code",
   "execution_count": 14,
   "metadata": {
    "collapsed": false
   },
   "outputs": [
    {
     "name": "stdout",
     "output_type": "stream",
     "text": [
      "\n",
      "Primer Armónico\n",
      "Amplitud= 82.9235605353\n",
      "frecuencia= 0.0\n",
      "periodo= inf\n",
      "\n",
      "Segundo armónico\n",
      "Amplitud= 11.3995918066\n",
      "frecuencia= 0.00093370681606\n",
      "periodo= 1071.0\n",
      "\n",
      "Segundo armónico\n",
      "Amplitud= 7.64140606831\n",
      "frecuencia= 0.00124494242141\n",
      "periodo= 803.25\n",
      "\n",
      "Tercer armónico\n",
      "Amplitud= 11.3390760528\n",
      "frecuencia= 0.00715841892312\n",
      "periodo= 139.695652174\n",
      "\n",
      "Cuarto armónico\n",
      "Amplitud= 19.9936166043\n",
      "frecuencia= 0.00746965452848\n",
      "periodo= 133.875\n",
      "\n",
      "Quinto armónico\n",
      "Amplitud= 17.7099160016\n",
      "frecuencia= 0.00778089013383\n",
      "periodo= 128.52\n",
      "\n",
      "Sexto armónico\n",
      "Amplitud= 15.4540189405\n",
      "frecuencia= 0.00840336134454\n",
      "periodo= 119.0\n"
     ]
    },
    {
     "name": "stderr",
     "output_type": "stream",
     "text": [
      "C:\\Users\\nayely\\Anaconda3\\lib\\site-packages\\ipykernel\\__main__.py:5: RuntimeWarning: divide by zero encountered in double_scalars\n"
     ]
    }
   ],
   "source": [
    "print()\n",
    "print('Primer Armónico')\n",
    "print('Amplitud=',np.absolute(yf[0,]/3213))\n",
    "print('frecuencia=', xf[int(1606.5 +0),])\n",
    "print('periodo=', 1/xf[int(1606.5 +0),])\n",
    "\n",
    "print()\n",
    "print('Segundo armónico')\n",
    "print('Amplitud=',np.absolute(yf[3,]/3213))\n",
    "print('frecuencia=', xf[int(1606.5 +3),])\n",
    "print('periodo=', 1/xf[int(1606.5 +3),])\n",
    "\n",
    "print()\n",
    "print('Segundo armónico')\n",
    "print('Amplitud=',np.absolute(yf[4,]/3213))\n",
    "print('frecuencia=', xf[int(1606.5 +4),])\n",
    "print('periodo=', 1/xf[int(1606.5 +4),])\n",
    "\n",
    "print()\n",
    "print('Tercer armónico')\n",
    "print('Amplitud=',np.absolute(yf[23,]/3213))\n",
    "print('frecuencia=', xf[int(1606.5 +23),])\n",
    "print('periodo=', 1/xf[int(1606.5 +23),])\n",
    "\n",
    "print()\n",
    "print('Cuarto armónico')\n",
    "print('Amplitud=',np.absolute(yf[24,]/3213))\n",
    "print('frecuencia=', xf[int(1606.5 +24),])\n",
    "print('periodo=', 1/xf[int(1606.5 +24),])\n",
    "\n",
    "print()\n",
    "print('Quinto armónico')\n",
    "print('Amplitud=',np.absolute(yf[25,]/3213))\n",
    "print('frecuencia=', xf[int(1606.5 +25),])\n",
    "print('periodo=', 1/xf[int(1606.5 +25),])\n",
    "\n",
    "print()\n",
    "print('Sexto armónico')\n",
    "print('Amplitud=',np.absolute(yf[27,]/3213))\n",
    "print('frecuencia=', xf[int(1606.5 +27),])\n",
    "print('periodo=', 1/xf[int(1606.5 +27),])\n"
   ]
  },
  {
   "cell_type": "code",
   "execution_count": 15,
   "metadata": {
    "collapsed": false
   },
   "outputs": [
    {
     "data": {
      "text/plain": [
       "0.56801906848676587"
      ]
     },
     "execution_count": 15,
     "metadata": {},
     "output_type": "execute_result"
    }
   ],
   "source": [
    "A1=np.angle(yf[24,]/3213)\n",
    "A1"
   ]
  },
  {
   "cell_type": "code",
   "execution_count": null,
   "metadata": {
    "collapsed": true
   },
   "outputs": [],
   "source": []
  }
 ],
 "metadata": {
  "kernelspec": {
   "display_name": "Python 3",
   "language": "python",
   "name": "python3"
  },
  "language_info": {
   "codemirror_mode": {
    "name": "ipython",
    "version": 3
   },
   "file_extension": ".py",
   "mimetype": "text/x-python",
   "name": "python",
   "nbconvert_exporter": "python",
   "pygments_lexer": "ipython3",
   "version": "3.6.0"
  }
 },
 "nbformat": 4,
 "nbformat_minor": 2
}
